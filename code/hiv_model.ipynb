{
 "cells": [
  {
   "cell_type": "markdown",
   "metadata": {},
   "source": [
    "HIV Model James Ho"
   ]
  },
  {
   "cell_type": "code",
   "execution_count": 1,
   "metadata": {},
   "outputs": [],
   "source": [
    "# Configure Jupyter so figures appear in the notebook\n",
    "%matplotlib inline\n",
    "\n",
    "# Configure Jupyter to display the assigned value after an assignment\n",
    "%config InteractiveShell.ast_node_interactivity='last_expr_or_assign'\n",
    "\n",
    "# import functions from the modsim.py module\n",
    "from modsim import *"
   ]
  },
  {
   "cell_type": "code",
   "execution_count": 216,
   "metadata": {},
   "outputs": [
    {
     "data": {
      "text/html": [
       "<div>\n",
       "<style scoped>\n",
       "    .dataframe tbody tr th:only-of-type {\n",
       "        vertical-align: middle;\n",
       "    }\n",
       "\n",
       "    .dataframe tbody tr th {\n",
       "        vertical-align: top;\n",
       "    }\n",
       "\n",
       "    .dataframe thead th {\n",
       "        text-align: right;\n",
       "    }\n",
       "</style>\n",
       "<table border=\"1\" class=\"dataframe\">\n",
       "  <thead>\n",
       "    <tr style=\"text-align: right;\">\n",
       "      <th></th>\n",
       "      <th>values</th>\n",
       "    </tr>\n",
       "  </thead>\n",
       "  <tbody>\n",
       "    <tr>\n",
       "      <th>init</th>\n",
       "      <td>R    2.000000e+02\n",
       "L    0.000000e+00\n",
       "E    0.000...</td>\n",
       "    </tr>\n",
       "    <tr>\n",
       "      <th>alpha</th>\n",
       "      <td>0.036</td>\n",
       "    </tr>\n",
       "    <tr>\n",
       "      <th>miu</th>\n",
       "      <td>0.00136</td>\n",
       "    </tr>\n",
       "    <tr>\n",
       "      <th>beta</th>\n",
       "      <td>0.00027</td>\n",
       "    </tr>\n",
       "    <tr>\n",
       "      <th>gamma</th>\n",
       "      <td>1.36</td>\n",
       "    </tr>\n",
       "    <tr>\n",
       "      <th>delta</th>\n",
       "      <td>0.33</td>\n",
       "    </tr>\n",
       "    <tr>\n",
       "      <th>pi</th>\n",
       "      <td>100</td>\n",
       "    </tr>\n",
       "    <tr>\n",
       "      <th>sigma</th>\n",
       "      <td>2</td>\n",
       "    </tr>\n",
       "    <tr>\n",
       "      <th>tau</th>\n",
       "      <td>0.2</td>\n",
       "    </tr>\n",
       "    <tr>\n",
       "      <th>rho</th>\n",
       "      <td>0.1</td>\n",
       "    </tr>\n",
       "    <tr>\n",
       "      <th>t_0</th>\n",
       "      <td>0</td>\n",
       "    </tr>\n",
       "    <tr>\n",
       "      <th>t_end</th>\n",
       "      <td>80</td>\n",
       "    </tr>\n",
       "    <tr>\n",
       "      <th>dt</th>\n",
       "      <td>0.1</td>\n",
       "    </tr>\n",
       "  </tbody>\n",
       "</table>\n",
       "</div>"
      ],
      "text/plain": [
       "init     R    2.000000e+02\n",
       "L    0.000000e+00\n",
       "E    0.000...\n",
       "alpha                                                0.036\n",
       "miu                                                0.00136\n",
       "beta                                               0.00027\n",
       "gamma                                                 1.36\n",
       "delta                                                 0.33\n",
       "pi                                                     100\n",
       "sigma                                                    2\n",
       "tau                                                    0.2\n",
       "rho                                                    0.1\n",
       "t_0                                                      0\n",
       "t_end                                                   80\n",
       "dt                                                     0.1\n",
       "dtype: object"
      ]
     },
     "execution_count": 216,
     "metadata": {},
     "output_type": "execute_result"
    }
   ],
   "source": [
    "system = System(init = State(R=200, L=0, E=0, V=4*10**-7),\n",
    "                alpha=3.6*10**-2, \n",
    "                miu=1.36*10**-3, \n",
    "                beta=0.00027, \n",
    "                gamma=1.36, \n",
    "                delta=0.33, \n",
    "                pi=100, \n",
    "                sigma=2, \n",
    "                tau=0.2, \n",
    "                rho=0.1,\n",
    "                t_0=0,\n",
    "                t_end=80,\n",
    "                dt = 0.1)"
   ]
  },
  {
   "cell_type": "code",
   "execution_count": 217,
   "metadata": {},
   "outputs": [],
   "source": [
    "def update_func(state, system, t):\n",
    "    r, l, e, v = state\n",
    "    \n",
    "    actively_uninfected = system.gamma*system.tau - system.miu*r - system.beta*r*v\n",
    "    latently_infected = system.rho*system.beta*r*v - system.miu*l - system.alpha*l\n",
    "    actively_infected = (1-system.rho)*system.beta*r*v + system.alpha*l - system.delta*e\n",
    "    free_virons = system.pi*e - system.sigma*v\n",
    "    \n",
    "    r += actively_uninfected*system.dt\n",
    "    l += latently_infected*system.dt\n",
    "    e += actively_infected*system.dt\n",
    "    v += free_virons*system.dt\n",
    "    return State(R=r, L=l, E=e, V=v)"
   ]
  },
  {
   "cell_type": "code",
   "execution_count": 218,
   "metadata": {},
   "outputs": [],
   "source": [
    "def run_sim(system, update_func):\n",
    "    \"\"\"\n",
    "    This function will update the state a given number of times\n",
    "    It will store each update in a Timeframe object\n",
    "    It will then return the TimeFrame object\n",
    "    \n",
    "    system: a system object containing the initial state of the system and parameters\n",
    "    update_func: a function that takes in a state and performs an update on it. It returns a new state object.\n",
    "    \"\"\"\n",
    "    frame = TimeFrame(columns=system.init.index)\n",
    "    frame.row[0] = system.init\n",
    "    # Define how many iterations to run through\n",
    "    iters = linrange(0, system.t_end/system.dt)\n",
    "    for t in iters:\n",
    "        frame.row[t+1] = update_func(frame.row[t], system, t)\n",
    "    \n",
    "    return frame"
   ]
  },
  {
   "cell_type": "code",
   "execution_count": null,
   "metadata": {},
   "outputs": [],
   "source": []
  },
  {
   "cell_type": "code",
   "execution_count": null,
   "metadata": {},
   "outputs": [],
   "source": []
  },
  {
   "cell_type": "code",
   "execution_count": 221,
   "metadata": {},
   "outputs": [],
   "source": [
    "results = run_sim(system, update_func);"
   ]
  },
  {
   "cell_type": "code",
   "execution_count": 231,
   "metadata": {},
   "outputs": [
    {
     "data": {
      "text/plain": [
       "<matplotlib.legend.Legend at 0x2385baaa668>"
      ]
     },
     "execution_count": 231,
     "metadata": {},
     "output_type": "execute_result"
    },
    {
     "data": {
      "image/png": "[encoded data removed]",
      "text/plain": [
       "<Figure size 432x288 with 2 Axes>"
      ]
     },
     "metadata": {},
     "output_type": "display_data"
    }
   ],
   "source": [
    "fig, ax1 = plt.subplots()\n",
    "ax1.plot(results.R, label = \"R\", color = 'g')\n",
    "ax1.plot(results.V, label = \"V\", color = 'r')\n",
    "ax1.set_ylabel('R')\n",
    "ax1.set_xlabel(\"Days from infection: \" + str(int((results.shape[0]-1)*system.dt))+\" days\")\n",
    "\n",
    "ax2 = ax1.twinx()\n",
    "ax2.semilogy(results.L, label = \"L\", color = 'b')\n",
    "ax2.semilogy(results.E, label = \"E\", color = 'k')\n",
    "ax2.set_ylabel('L and E')\n",
    "\n",
    "\n",
    "fig.legend([\"Actively Uninfected\", \"Free Virons\", \"Latently Infected\", \"Actively Infected\"], loc=[0.5,0.4])"
   ]
  },
  {
   "cell_type": "code",
   "execution_count": null,
   "metadata": {},
   "outputs": [],
   "source": []
  }
 ],
 "metadata": {
  "kernelspec": {
   "display_name": "Python 3",
   "language": "python",
   "name": "python3"
  },
  "language_info": {
   "codemirror_mode": {
    "name": "ipython",
    "version": 3
   },
   "file_extension": ".py",
   "mimetype": "text/x-python",
   "name": "python",
   "nbconvert_exporter": "python",
   "pygments_lexer": "ipython3",
   "version": "3.6.6"
  }
 },
 "nbformat": 4,
 "nbformat_minor": 2
}
