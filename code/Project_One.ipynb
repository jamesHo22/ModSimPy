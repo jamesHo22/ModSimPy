{
 "cells": [
  {
   "cell_type": "markdown",
   "metadata": {},
   "source": [
    "James Ho\n",
    "Olivia Seitelman\n",
    "\n",
    "Question?\n",
    "How would the world population be different today if the Green Revolution had never occurred?"
   ]
  },
  {
   "cell_type": "markdown",
   "metadata": {},
   "source": [
    "Model:\n",
    "Build a model that fits the population growth before the green revolution (roughly in the 1960's). Extrapolate this model to the present year. This plot can then be compared to the actual population data."
   ]
  },
  {
   "cell_type": "code",
   "execution_count": 179,
   "metadata": {},
   "outputs": [],
   "source": [
    "# Configure Jupyter so figures appear in the notebook\n",
    "%matplotlib inline\n",
    "\n",
    "# Configure Jupyter to display the assigned value after an assignment\n",
    "%config InteractiveShell.ast_node_interactivity='last_expr_or_assign'\n",
    "\n",
    "# import functions from the modsim.py module\n",
    "from modsim import *\n",
    "\n",
    "from pandas import read_html\n",
    "import pandas\n",
    "import numpy as np\n",
    "from numpy import genfromtxt"
   ]
  },
  {
   "cell_type": "code",
   "execution_count": 180,
   "metadata": {},
   "outputs": [],
   "source": [
    "# Import the .csv files of the population data\n",
    "my_data = pandas.read_csv('WorldPopData.csv', sep=',');"
   ]
  },
  {
   "cell_type": "code",
   "execution_count": 181,
   "metadata": {},
   "outputs": [],
   "source": [
    "# Will modify this function later to plot the model and the data\n",
    "def plot_results(census, un, timeseries, title):\n",
    "    \"\"\"Plot the estimates and the model.\n",
    "    \n",
    "    census: TimeSeries of population estimates\n",
    "    un: TimeSeries of population estimates\n",
    "    timeseries: TimeSeries of simulation results\n",
    "    title: string\n",
    "    \"\"\"\n",
    "    plot(census, ':', label='US Census')\n",
    "    plot(un, '--', label='UN DESA')\n",
    "    plot(timeseries, color='gray', label='model')\n",
    "    \n",
    "    decorate(xlabel='Year', \n",
    "             ylabel='World population (billion)',\n",
    "             title=title)"
   ]
  },
  {
   "cell_type": "code",
   "execution_count": 182,
   "metadata": {},
   "outputs": [],
   "source": [
    "# Converts data to array\n",
    "year = my_data.year.values;\n",
    "pop = my_data.WorldPop.values;\n",
    "\n",
    "# Cut the data to start from 1900\n",
    "# Population will be in billions\n",
    "year1900 = my_data.year.values[11900:12018];\n",
    "pop1900 = my_data.WorldPop.values[11900:12018]/10**9;"
   ]
  },
  {
   "cell_type": "code",
   "execution_count": 183,
   "metadata": {},
   "outputs": [
    {
     "data": {
      "text/plain": [
       "[<matplotlib.lines.Line2D at 0x28606d4b470>]"
      ]
     },
     "execution_count": 183,
     "metadata": {},
     "output_type": "execute_result"
    },
    {
     "data": {
      "image/png": "[encoded data removed]",
      "text/plain": [
       "<Figure size 432x288 with 1 Axes>"
      ]
     },
     "metadata": {},
     "output_type": "display_data"
    }
   ],
   "source": [
    "# Test plotting the data\n",
    "plot(year1900, pop1900)"
   ]
  },
  {
   "cell_type": "code",
   "execution_count": 184,
   "metadata": {},
   "outputs": [
    {
     "data": {
      "text/plain": [
       "0.049560626947826085"
      ]
     },
     "execution_count": 184,
     "metadata": {},
     "output_type": "execute_result"
    }
   ],
   "source": [
    "t_0 = year1900[0]\n",
    "t_end = year1900[-1]\n",
    "elapsed_time = t_end - t_0\n",
    "\n",
    "p_0 = pop1900[0]\n",
    "p_end = pop1900[-1]\n",
    "total_growth = p_end - p_0\n",
    "\n",
    "annual_growth = total_growth / elapsed_time"
   ]
  },
  {
   "cell_type": "code",
   "execution_count": 185,
   "metadata": {},
   "outputs": [
    {
     "data": {
      "text/html": [
       "<div>\n",
       "<style scoped>\n",
       "    .dataframe tbody tr th:only-of-type {\n",
       "        vertical-align: middle;\n",
       "    }\n",
       "\n",
       "    .dataframe tbody tr th {\n",
       "        vertical-align: top;\n",
       "    }\n",
       "\n",
       "    .dataframe thead th {\n",
       "        text-align: right;\n",
       "    }\n",
       "</style>\n",
       "<table border=\"1\" class=\"dataframe\">\n",
       "  <thead>\n",
       "    <tr style=\"text-align: right;\">\n",
       "      <th></th>\n",
       "      <th>values</th>\n",
       "    </tr>\n",
       "  </thead>\n",
       "  <tbody>\n",
       "    <tr>\n",
       "      <th>t_0</th>\n",
       "      <td>1900.000000</td>\n",
       "    </tr>\n",
       "    <tr>\n",
       "      <th>t_end</th>\n",
       "      <td>2015.000000</td>\n",
       "    </tr>\n",
       "    <tr>\n",
       "      <th>p_0</th>\n",
       "      <td>1.650000</td>\n",
       "    </tr>\n",
       "    <tr>\n",
       "      <th>annual_growth</th>\n",
       "      <td>0.049561</td>\n",
       "    </tr>\n",
       "    <tr>\n",
       "      <th>birth_rate</th>\n",
       "      <td>0.020000</td>\n",
       "    </tr>\n",
       "    <tr>\n",
       "      <th>death_rate</th>\n",
       "      <td>0.011000</td>\n",
       "    </tr>\n",
       "    <tr>\n",
       "      <th>alpha</th>\n",
       "      <td>0.014000</td>\n",
       "    </tr>\n",
       "    <tr>\n",
       "      <th>beta</th>\n",
       "      <td>-0.003000</td>\n",
       "    </tr>\n",
       "    <tr>\n",
       "      <th>gamma</th>\n",
       "      <td>-0.000050</td>\n",
       "    </tr>\n",
       "  </tbody>\n",
       "</table>\n",
       "</div>"
      ],
      "text/plain": [
       "t_0              1900.000000\n",
       "t_end            2015.000000\n",
       "p_0                 1.650000\n",
       "annual_growth       0.049561\n",
       "birth_rate          0.020000\n",
       "death_rate          0.011000\n",
       "alpha               0.014000\n",
       "beta               -0.003000\n",
       "gamma              -0.000050\n",
       "dtype: float64"
      ]
     },
     "execution_count": 185,
     "metadata": {},
     "output_type": "execute_result"
    }
   ],
   "source": [
    "# Model System object\n",
    "modelSystem = System(t_0 = t_0,\n",
    "                    t_end = t_end,\n",
    "                    p_0 = p_0,\n",
    "                    annual_growth = annual_growth,\n",
    "                    birth_rate = 0.02,\n",
    "                    death_rate = 0.011,\n",
    "                    alpha = 0.014,\n",
    "                    beta = -0.003,\n",
    "                    gamma = -0.00005)"
   ]
  },
  {
   "cell_type": "code",
   "execution_count": 239,
   "metadata": {},
   "outputs": [],
   "source": [
    "# Run simulation\n",
    "def run_sim(system, update_func):\n",
    "    \"\"\"Simulate the system using any update function\n",
    "    system: System object\n",
    "    update_func: function that computes the population next year\n",
    "    returns: TimeSeries\n",
    "    \"\"\"\n",
    "    results = TimeSeries()\n",
    "    results[system.t_0] = system.p_0\n",
    "    \n",
    "    for t in linrange(system.t_0, system.t_end):\n",
    "        results[t+1] = update_func(results[t], system)\n",
    "    return results"
   ]
  },
  {
   "cell_type": "code",
   "execution_count": 187,
   "metadata": {},
   "outputs": [],
   "source": [
    "# Update function: Proportional growth\n",
    "def update_proportional(pop, system):\n",
    "    \"\"\"update function with proportional growth.\n",
    "    \n",
    "    system: System object\n",
    "    pop: the current population\n",
    "    returns: returns the new population\n",
    "    \"\"\"\n",
    "    births = system.birth_rate * pop\n",
    "    deaths = system.death_rate * pop\n",
    "    result = births - deaths + pop\n",
    "    return result"
   ]
  },
  {
   "cell_type": "code",
   "execution_count": 240,
   "metadata": {},
   "outputs": [],
   "source": [
    "population = run_sim(modelSystem, update_proportional);"
   ]
  },
  {
   "cell_type": "code",
   "execution_count": 189,
   "metadata": {},
   "outputs": [
    {
     "data": {
      "text/plain": [
       "[<matplotlib.lines.Line2D at 0x28606dde550>]"
      ]
     },
     "execution_count": 189,
     "metadata": {},
     "output_type": "execute_result"
    },
    {
     "data": {
      "image/png": "[encoded data removed]",
      "text/plain": [
       "<Figure size 432x288 with 1 Axes>"
      ]
     },
     "metadata": {},
     "output_type": "display_data"
    }
   ],
   "source": [
    "plot(population)\n",
    "plot(year1900, pop1900)"
   ]
  },
  {
   "cell_type": "code",
   "execution_count": 190,
   "metadata": {},
   "outputs": [],
   "source": [
    "# Update function: Quadratic growth\n",
    "def update_quadratic(pop, system):\n",
    "    \"\"\"udpate function with proportional growth.\n",
    "    \n",
    "    system: System object\n",
    "    pop: the current population\n",
    "    returns: returns the new population\n",
    "    \"\"\"\n",
    "    netGrowth = system.alpha * pop + system.beta * pop**2\n",
    "    result = netGrowth + pop\n",
    "    return result"
   ]
  },
  {
   "cell_type": "code",
   "execution_count": 191,
   "metadata": {},
   "outputs": [],
   "source": [
    "def plot_results(modelPop, realPop, years, title):\n",
    "    \"\"\"Plot the estimates and the model.\n",
    "    \n",
    "    census: TimeSeries of population estimates\n",
    "    un: TimeSeries of population estimates\n",
    "    timeseries: TimeSeries of simulation results\n",
    "    title: string\n",
    "    \"\"\"\n",
    "    plot(years, modelPop, ':', label='Model')\n",
    "    plot(years, realPop, label='Data')    \n",
    "    decorate(xlabel='Year', \n",
    "             ylabel='World population (billion)',\n",
    "             title=title)"
   ]
  },
  {
   "cell_type": "code",
   "execution_count": 192,
   "metadata": {},
   "outputs": [],
   "source": [
    "population = run_sim(modelSystem, update_quadratic);"
   ]
  },
  {
   "cell_type": "code",
   "execution_count": 193,
   "metadata": {},
   "outputs": [],
   "source": [
    "# Model System object\n",
    "modelSystem = System(t_0 = t_0,\n",
    "                    t_end = t_end,\n",
    "                    p_0 = p_0,\n",
    "                    annual_growth = annual_growth,\n",
    "                    birth_rate = 0.03,\n",
    "                    death_rate = 0.011,\n",
    "                    alpha = 0.022,\n",
    "                    beta = -0.007,\n",
    "                    gamma = -0.00003);"
   ]
  },
  {
   "cell_type": "code",
   "execution_count": 194,
   "metadata": {},
   "outputs": [
    {
     "data": {
      "image/png": "[encoded data removed]",
      "text/plain": [
       "<Figure size 432x288 with 1 Axes>"
      ]
     },
     "metadata": {},
     "output_type": "display_data"
    }
   ],
   "source": [
    "population = run_sim(modelSystem, update_quadratic);\n",
    "plot_results(population, pop1900, year1900, \"Title\")"
   ]
  },
  {
   "cell_type": "code",
   "execution_count": 195,
   "metadata": {},
   "outputs": [],
   "source": [
    "# Update function: polynomial growth\n",
    "def update_poly(pop, system):\n",
    "    \"\"\"udpate function with proportional growth.\n",
    "    \n",
    "    system: System object\n",
    "    pop: the current population\n",
    "    returns: returns the new population\n",
    "    \"\"\"\n",
    "    netGrowth = system.alpha * pop + system.beta * pop**2 + system.gamma * pop**3\n",
    "    result = netGrowth + pop\n",
    "    return result"
   ]
  },
  {
   "cell_type": "code",
   "execution_count": 196,
   "metadata": {},
   "outputs": [
    {
     "data": {
      "text/plain": [
       "array([-6.43244330e-07,  4.27650205e-03, -9.29638468e+00,  6.63877016e+03])"
      ]
     },
     "execution_count": 196,
     "metadata": {},
     "output_type": "execute_result"
    }
   ],
   "source": [
    "# Use numpy polyfit to find the correct coefficient\n",
    "coeff = np.polyfit(year1900, pop1900,3)"
   ]
  },
  {
   "cell_type": "code",
   "execution_count": 197,
   "metadata": {},
   "outputs": [],
   "source": [
    "population = run_sim(modelSystem, update_poly);"
   ]
  },
  {
   "cell_type": "code",
   "execution_count": 198,
   "metadata": {},
   "outputs": [
    {
     "data": {
      "text/plain": [
       "[<matplotlib.lines.Line2D at 0x28606dde320>]"
      ]
     },
     "execution_count": 198,
     "metadata": {},
     "output_type": "execute_result"
    },
    {
     "data": {
      "image/png": "[encoded data removed]",
      "text/plain": [
       "<Figure size 432x288 with 1 Axes>"
      ]
     },
     "metadata": {},
     "output_type": "display_data"
    }
   ],
   "source": [
    "plot(population)\n",
    "plot(year1900, pop1900)"
   ]
  },
  {
   "cell_type": "code",
   "execution_count": 199,
   "metadata": {},
   "outputs": [],
   "source": [
    "growthRate1900 = np.diff(pop1900);"
   ]
  },
  {
   "cell_type": "code",
   "execution_count": 200,
   "metadata": {},
   "outputs": [
    {
     "data": {
      "text/plain": [
       "7.349472099"
      ]
     },
     "execution_count": 200,
     "metadata": {},
     "output_type": "execute_result"
    }
   ],
   "source": [
    "pop1900[-1]"
   ]
  },
  {
   "cell_type": "code",
   "execution_count": 201,
   "metadata": {},
   "outputs": [
    {
     "data": {
      "text/plain": [
       "[<matplotlib.lines.Line2D at 0x28605b94400>]"
      ]
     },
     "execution_count": 201,
     "metadata": {},
     "output_type": "execute_result"
    },
    {
     "data": {
      "image/png": "[encoded data removed]",
      "text/plain": [
       "<Figure size 432x288 with 1 Axes>"
      ]
     },
     "metadata": {},
     "output_type": "display_data"
    }
   ],
   "source": [
    "plot(year1900[:-1], growthRate1900)\n"
   ]
  },
  {
   "cell_type": "code",
   "execution_count": 202,
   "metadata": {},
   "outputs": [
    {
     "data": {
      "text/plain": [
       "0.05672934499999993"
      ]
     },
     "execution_count": 202,
     "metadata": {},
     "output_type": "execute_result"
    }
   ],
   "source": [
    "growthRate1900[60]"
   ]
  },
  {
   "cell_type": "code",
   "execution_count": 250,
   "metadata": {},
   "outputs": [],
   "source": [
    "#\n",
    "population = run_sim(modelSystem, update_poly);"
   ]
  },
  {
   "cell_type": "code",
   "execution_count": 251,
   "metadata": {},
   "outputs": [],
   "source": [
    "population = run_sim(modelSystem, update_proportional);"
   ]
  },
  {
   "cell_type": "code",
   "execution_count": 204,
   "metadata": {},
   "outputs": [],
   "source": [
    "# Test code for gradient descent and random stuff"
   ]
  },
  {
   "cell_type": "code",
   "execution_count": 282,
   "metadata": {},
   "outputs": [],
   "source": [
    "def gradient_descent(runs, learning_rate):\n",
    "    \"\"\"Runs the run_sim function and updates the model system parameters\n",
    "    \n",
    "    runs: number of iterations of gradient descent\n",
    "    learning_rate: size of descent steps per iteration\n",
    "    returns: the final mean squared error  \n",
    "    prints: the mean squared error for each run\n",
    "    \"\"\"\n",
    "    newWeight = 0;\n",
    "    newBias = 0;\n",
    "    for i in range(runs):\n",
    "        population = run_sim(modelSystem, update_proportional)\n",
    "        newParams = update_weights(pop1900, population, newWeight, newBias, learning_rate);\n",
    "        newWeight = newParams[0];\n",
    "        newBias = newParams[1];\n",
    "        modelSystem.birth_rate = newWeight\n",
    "        error = cost_func(pop1900, population);\n",
    "        print(\"Iteration: \", i, \", MS Error: \", error)\n",
    "        plot_results(population, pop1900, year1900, \"Title\")\n",
    "    return(error)"
   ]
  },
  {
   "cell_type": "code",
   "execution_count": 278,
   "metadata": {},
   "outputs": [
    {
     "data": {
      "text/plain": [
       "0.16586473391394227"
      ]
     },
     "execution_count": 278,
     "metadata": {},
     "output_type": "execute_result"
    }
   ],
   "source": [
    "cost_func(pop1900, population)"
   ]
  },
  {
   "cell_type": "code",
   "execution_count": 279,
   "metadata": {},
   "outputs": [],
   "source": [
    "def cost_func(realPop, predictions):\n",
    "    \"\"\"calcaulate the mean squared error between the predictions and the actual\n",
    "    \n",
    "    realPop: the actual population vector\n",
    "    predictions: the vector that the simulation generates\n",
    "    returns: the mean squared error\n",
    "    \"\"\"\n",
    "    n = len(realPop)\n",
    "    total_error = 0.0\n",
    "    for i in range(n):\n",
    "        total_error += (realPop[i] - predictions[i+1900])**2 \n",
    "    return total_error / n"
   ]
  },
  {
   "cell_type": "code",
   "execution_count": 280,
   "metadata": {},
   "outputs": [],
   "source": [
    "def update_weights(realPop, predictions, weight, bias, learning_rate):\n",
    "    \"\"\"Update the weights to minimize the error\n",
    "    \n",
    "    realPop: actual population\n",
    "    predictions: the current predicted value of population\n",
    "    weight: parameter that is being optimized\n",
    "    bias: another parameter that is being optimized\n",
    "    learning_rate: the step size of each iteration\n",
    "    \"\"\"\n",
    "    weight_deriv = 0\n",
    "    bias_deriv = 0\n",
    "    n = len(realPop)\n",
    "\n",
    "    for i in range(n):\n",
    "        # Calculate partial derivatives\n",
    "        # -2x(y - (mx + b))\n",
    "        weight_deriv += -2 * (realPop[i] - (predictions[i+1900]))\n",
    "\n",
    "        # -2(y - (mx + b))\n",
    "        bias_deriv += -2*(realPop[i] - (predictions[i+1900]))\n",
    "\n",
    "    # We subtract because the derivatives point in direction of steepest ascent\n",
    "    weight -= (weight_deriv / n) * learning_rate\n",
    "    bias -= (bias_deriv / n) * learning_rate\n",
    "\n",
    "    return weight, bias"
   ]
  },
  {
   "cell_type": "code",
   "execution_count": 283,
   "metadata": {},
   "outputs": [
    {
     "name": "stdout",
     "output_type": "stream",
     "text": [
      "Iteration:  0 , MS Error:  7.305285641364407\n",
      "Iteration:  1 , MS Error:  9.946650129494401\n",
      "Iteration:  2 , MS Error:  7.880245662854015\n",
      "Iteration:  3 , MS Error:  5.58137839156423\n",
      "Iteration:  4 , MS Error:  3.453291835875201\n"
     ]
    },
    {
     "data": {
      "text/plain": [
       "3.453291835875201"
      ]
     },
     "execution_count": 283,
     "metadata": {},
     "output_type": "execute_result"
    },
    {
     "data": {
      "image/png": "[encoded data removed]",
      "text/plain": [
       "<Figure size 432x288 with 1 Axes>"
      ]
     },
     "metadata": {},
     "output_type": "display_data"
    }
   ],
   "source": [
    "modelSystem.birth_rate = 0.01\n",
    "gradient_descent(5, 0.001)"
   ]
  },
  {
   "cell_type": "code",
   "execution_count": 270,
   "metadata": {},
   "outputs": [
    {
     "data": {
      "image/png": "[encoded data removed]",
      "text/plain": [
       "<Figure size 432x288 with 1 Axes>"
      ]
     },
     "metadata": {},
     "output_type": "display_data"
    }
   ],
   "source": [
    "population = run_sim(modelSystem, update_proportional)\n",
    "plot_results(population, pop1900, year1900, \"Title\")"
   ]
  },
  {
   "cell_type": "code",
   "execution_count": 209,
   "metadata": {},
   "outputs": [
    {
     "data": {
      "text/html": [
       "<div>\n",
       "<style scoped>\n",
       "    .dataframe tbody tr th:only-of-type {\n",
       "        vertical-align: middle;\n",
       "    }\n",
       "\n",
       "    .dataframe tbody tr th {\n",
       "        vertical-align: top;\n",
       "    }\n",
       "\n",
       "    .dataframe thead th {\n",
       "        text-align: right;\n",
       "    }\n",
       "</style>\n",
       "<table border=\"1\" class=\"dataframe\">\n",
       "  <thead>\n",
       "    <tr style=\"text-align: right;\">\n",
       "      <th></th>\n",
       "      <th>values</th>\n",
       "    </tr>\n",
       "  </thead>\n",
       "  <tbody>\n",
       "    <tr>\n",
       "      <th>t_0</th>\n",
       "      <td>1900.000000</td>\n",
       "    </tr>\n",
       "    <tr>\n",
       "      <th>t_end</th>\n",
       "      <td>2015.000000</td>\n",
       "    </tr>\n",
       "    <tr>\n",
       "      <th>p_0</th>\n",
       "      <td>1.650000</td>\n",
       "    </tr>\n",
       "    <tr>\n",
       "      <th>annual_growth</th>\n",
       "      <td>0.049561</td>\n",
       "    </tr>\n",
       "    <tr>\n",
       "      <th>birth_rate</th>\n",
       "      <td>0.020000</td>\n",
       "    </tr>\n",
       "    <tr>\n",
       "      <th>death_rate</th>\n",
       "      <td>0.011000</td>\n",
       "    </tr>\n",
       "    <tr>\n",
       "      <th>alpha</th>\n",
       "      <td>0.014000</td>\n",
       "    </tr>\n",
       "    <tr>\n",
       "      <th>beta</th>\n",
       "      <td>-0.003000</td>\n",
       "    </tr>\n",
       "    <tr>\n",
       "      <th>gamma</th>\n",
       "      <td>-0.000050</td>\n",
       "    </tr>\n",
       "    <tr>\n",
       "      <th>weight</th>\n",
       "      <td>0.014000</td>\n",
       "    </tr>\n",
       "  </tbody>\n",
       "</table>\n",
       "</div>"
      ],
      "text/plain": [
       "t_0              1900.000000\n",
       "t_end            2015.000000\n",
       "p_0                 1.650000\n",
       "annual_growth       0.049561\n",
       "birth_rate          0.020000\n",
       "death_rate          0.011000\n",
       "alpha               0.014000\n",
       "beta               -0.003000\n",
       "gamma              -0.000050\n",
       "weight              0.014000\n",
       "dtype: float64"
      ]
     },
     "execution_count": 209,
     "metadata": {},
     "output_type": "execute_result"
    }
   ],
   "source": [
    "# Model System object\n",
    "modelSystem = System(t_0 = t_0,\n",
    "                    t_end = t_end,\n",
    "                    p_0 = p_0,\n",
    "                    annual_growth = annual_growth,\n",
    "                    birth_rate = 0.02,\n",
    "                    death_rate = 0.011,\n",
    "                    alpha = 0.014,\n",
    "                    beta = -0.003,\n",
    "                    gamma = -0.00005,\n",
    "                    weight = 0.014)"
   ]
  },
  {
   "cell_type": "code",
   "execution_count": 210,
   "metadata": {},
   "outputs": [
    {
     "data": {
      "text/plain": [
       "[<matplotlib.lines.Line2D at 0x28605b95588>]"
      ]
     },
     "execution_count": 210,
     "metadata": {},
     "output_type": "execute_result"
    },
    {
     "data": {
      "image/png": "[encoded data removed]",
      "text/plain": [
       "<Figure size 432x288 with 1 Axes>"
      ]
     },
     "metadata": {},
     "output_type": "display_data"
    }
   ],
   "source": [
    "population = run_sim(modelSystem, update_proportional);\n",
    "plot(population)\n",
    "plot(year1900, pop1900)"
   ]
  },
  {
   "cell_type": "code",
   "execution_count": null,
   "metadata": {},
   "outputs": [],
   "source": []
  },
  {
   "cell_type": "code",
   "execution_count": null,
   "metadata": {},
   "outputs": [],
   "source": []
  },
  {
   "cell_type": "code",
   "execution_count": null,
   "metadata": {},
   "outputs": [],
   "source": []
  },
  {
   "cell_type": "code",
   "execution_count": null,
   "metadata": {},
   "outputs": [],
   "source": []
  },
  {
   "cell_type": "code",
   "execution_count": null,
   "metadata": {},
   "outputs": [],
   "source": []
  }
 ],
 "metadata": {
  "kernelspec": {
   "display_name": "Python 3",
   "language": "python",
   "name": "python3"
  },
  "language_info": {
   "codemirror_mode": {
    "name": "ipython",
    "version": 3
   },
   "file_extension": ".py",
   "mimetype": "text/x-python",
   "name": "python",
   "nbconvert_exporter": "python",
   "pygments_lexer": "ipython3",
   "version": "3.6.6"
  }
 },
 "nbformat": 4,
 "nbformat_minor": 2
}
