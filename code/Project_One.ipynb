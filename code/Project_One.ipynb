{
 "cells": [
  {
   "cell_type": "markdown",
   "metadata": {},
   "source": [
    "James Ho\n",
    "Olivia Seitelman\n",
    "\n",
    "Question?\n",
    "How would the world population be different today if the Green Revolution had never occurred?"
   ]
  },
  {
   "cell_type": "markdown",
   "metadata": {},
   "source": [
    "Model:\n",
    "Build a model that fits the population growth before the green revolution (roughly in the 1960's). Extrapolate this model to the present year. This plot can then be compared to the actual population data."
   ]
  },
  {
   "cell_type": "code",
   "execution_count": 179,
   "metadata": {},
   "outputs": [],
   "source": [
    "# Configure Jupyter so figures appear in the notebook\n",
    "%matplotlib inline\n",
    "\n",
    "# Configure Jupyter to display the assigned value after an assignment\n",
    "%config InteractiveShell.ast_node_interactivity='last_expr_or_assign'\n",
    "\n",
    "# import functions from the modsim.py module\n",
    "from modsim import *\n",
    "\n",
    "from pandas import read_html\n",
    "import pandas\n",
    "import numpy as np\n",
    "from numpy import genfromtxt"
   ]
  },
  {
   "cell_type": "code",
   "execution_count": 180,
   "metadata": {},
   "outputs": [],
   "source": [
    "# Import the .csv files of the population data\n",
    "my_data = pandas.read_csv('WorldPopData.csv', sep=',');"
   ]
  },
  {
   "cell_type": "code",
   "execution_count": 181,
   "metadata": {},
   "outputs": [],
   "source": [
    "# Will modify this function later to plot the model and the data\n",
    "def plot_results(census, un, timeseries, title):\n",
    "    \"\"\"Plot the estimates and the model.\n",
    "    \n",
    "    census: TimeSeries of population estimates\n",
    "    un: TimeSeries of population estimates\n",
    "    timeseries: TimeSeries of simulation results\n",
    "    title: string\n",
    "    \"\"\"\n",
    "    plot(census, ':', label='US Census')\n",
    "    plot(un, '--', label='UN DESA')\n",
    "    plot(timeseries, color='gray', label='model')\n",
    "    \n",
    "    decorate(xlabel='Year', \n",
    "             ylabel='World population (billion)',\n",
    "             title=title)"
   ]
  },
  {
   "cell_type": "code",
   "execution_count": 182,
   "metadata": {},
   "outputs": [],
   "source": [
    "# Converts data to array\n",
    "year = my_data.year.values;\n",
    "pop = my_data.WorldPop.values;\n",
    "\n",
    "# Cut the data to start from 1900\n",
    "# Population will be in billions\n",
    "year1900 = my_data.year.values[11900:12018];\n",
    "pop1900 = my_data.WorldPop.values[11900:12018]/10**9;"
   ]
  },
  {
   "cell_type": "code",
   "execution_count": 183,
   "metadata": {},
   "outputs": [
    {
     "data": {
      "text/plain": [
       "[<matplotlib.lines.Line2D at 0x28606d4b470>]"
      ]
     },
     "execution_count": 183,
     "metadata": {},
     "output_type": "execute_result"
    },
    {
     "data": {
      "image/png": "[encoded data removed]",
      "text/plain": [
       "<Figure size 432x288 with 1 Axes>"
      ]
     },
     "metadata": {},
     "output_type": "display_data"
    }
   ],
   "source": [
    "# Test plotting the data\n",
    "plot(year1900, pop1900)"
   ]
  },
  {
   "cell_type": "code",
   "execution_count": 184,
   "metadata": {},
   "outputs": [
    {
     "data": {
      "text/plain": [
       "0.049560626947826085"
      ]
     },
     "execution_count": 184,
     "metadata": {},
     "output_type": "execute_result"
    }
   ],
   "source": [
    "t_0 = year1900[0]\n",
    "t_end = year1900[-1]\n",
    "elapsed_time = t_end - t_0\n",
    "\n",
    "p_0 = pop1900[0]\n",
    "p_end = pop1900[-1]\n",
    "total_growth = p_end - p_0\n",
    "\n",
    "annual_growth = total_growth / elapsed_time"
   ]
  },
  {
   "cell_type": "code",
   "execution_count": 185,
   "metadata": {},
   "outputs": [
    {
     "data": {
      "text/html": [
       "<div>\n",
       "<style scoped>\n",
       "    .dataframe tbody tr th:only-of-type {\n",
       "        vertical-align: middle;\n",
       "    }\n",
       "\n",
       "    .dataframe tbody tr th {\n",
       "        vertical-align: top;\n",
       "    }\n",
       "\n",
       "    .dataframe thead th {\n",
       "        text-align: right;\n",
       "    }\n",
       "</style>\n",
       "<table border=\"1\" class=\"dataframe\">\n",
       "  <thead>\n",
       "    <tr style=\"text-align: right;\">\n",
       "      <th></th>\n",
       "      <th>values</th>\n",
       "    </tr>\n",
       "  </thead>\n",
       "  <tbody>\n",
       "    <tr>\n",
       "      <th>t_0</th>\n",
       "      <td>1900.000000</td>\n",
       "    </tr>\n",
       "    <tr>\n",
       "      <th>t_end</th>\n",
       "      <td>2015.000000</td>\n",
       "    </tr>\n",
       "    <tr>\n",
       "      <th>p_0</th>\n",
       "      <td>1.650000</td>\n",
       "    </tr>\n",
       "    <tr>\n",
       "      <th>annual_growth</th>\n",
       "      <td>0.049561</td>\n",
       "    </tr>\n",
       "    <tr>\n",
       "      <th>birth_rate</th>\n",
       "      <td>0.020000</td>\n",
       "    </tr>\n",
       "    <tr>\n",
       "      <th>death_rate</th>\n",
       "      <td>0.011000</td>\n",
       "    </tr>\n",
       "    <tr>\n",
       "      <th>alpha</th>\n",
       "      <td>0.014000</td>\n",
       "    </tr>\n",
       "    <tr>\n",
       "      <th>beta</th>\n",
       "      <td>-0.003000</td>\n",
       "    </tr>\n",
       "    <tr>\n",
       "      <th>gamma</th>\n",
       "      <td>-0.000050</td>\n",
       "    </tr>\n",
       "  </tbody>\n",
       "</table>\n",
       "</div>"
      ],
      "text/plain": [
       "t_0              1900.000000\n",
       "t_end            2015.000000\n",
       "p_0                 1.650000\n",
       "annual_growth       0.049561\n",
       "birth_rate          0.020000\n",
       "death_rate          0.011000\n",
       "alpha               0.014000\n",
       "beta               -0.003000\n",
       "gamma              -0.000050\n",
       "dtype: float64"
      ]
     },
     "execution_count": 185,
     "metadata": {},
     "output_type": "execute_result"
    }
   ],
   "source": [
    "# Model System object\n",
    "modelSystem = System(t_0 = t_0,\n",
    "                    t_end = t_end,\n",
    "                    p_0 = p_0,\n",
    "                    annual_growth = annual_growth,\n",
    "                    birth_rate = 0.02,\n",
    "                    death_rate = 0.011,\n",
    "                    alpha = 0.014,\n",
    "                    beta = -0.003,\n",
    "                    gamma = -0.00005)"
   ]
  },
  {
   "cell_type": "code",
   "execution_count": 239,
   "metadata": {},
   "outputs": [],
   "source": [
    "# Run simulation\n",
    "def run_sim(system, update_func):\n",
    "    \"\"\"Simulate the system using any update function\n",
    "    system: System object\n",
    "    update_func: function that computes the population next year\n",
    "    returns: TimeSeries\n",
    "    \"\"\"\n",
    "    results = TimeSeries()\n",
    "    results[system.t_0] = system.p_0\n",
    "    \n",
    "    for t in linrange(system.t_0, system.t_end):\n",
    "        results[t+1] = update_func(results[t], system)\n",
    "    return results"
   ]
  },
  {
   "cell_type": "code",
   "execution_count": 187,
   "metadata": {},
   "outputs": [],
   "source": [
    "# Update function: Proportional growth\n",
    "def update_proportional(pop, system):\n",
    "    \"\"\"update function with proportional growth.\n",
    "    \n",
    "    system: System object\n",
    "    pop: the current population\n",
    "    returns: returns the new population\n",
    "    \"\"\"\n",
    "    births = system.birth_rate * pop\n",
    "    deaths = system.death_rate * pop\n",
    "    result = births - deaths + pop\n",
    "    return result"
   ]
  },
  {
   "cell_type": "code",
   "execution_count": 240,
   "metadata": {},
   "outputs": [],
   "source": [
    "population = run_sim(modelSystem, update_proportional);"
   ]
  },
  {
   "cell_type": "code",
   "execution_count": 189,
   "metadata": {},
   "outputs": [
    {
     "data": {
      "text/plain": [
       "[<matplotlib.lines.Line2D at 0x28606dde550>]"
      ]
     },
     "execution_count": 189,
     "metadata": {},
     "output_type": "execute_result"
    },
    {
     "data": {
      "image/png": "[encoded data removed]",
      "text/plain": [
       "<Figure size 432x288 with 1 Axes>"
      ]
     },
     "metadata": {},
     "output_type": "display_data"
    }
   ],
   "source": [
    "plot(population)\n",
    "plot(year1900, pop1900)"
   ]
  },
  {
   "cell_type": "code",
   "execution_count": 190,
   "metadata": {},
   "outputs": [],
   "source": [
    "# Update function: Quadratic growth\n",
    "def update_quadratic(pop, system):\n",
    "    \"\"\"udpate function with proportional growth.\n",
    "    \n",
    "    system: System object\n",
    "    pop: the current population\n",
    "    returns: returns the new population\n",
    "    \"\"\"\n",
    "    netGrowth = system.alpha * pop + system.beta * pop**2\n",
    "    result = netGrowth + pop\n",
    "    return result"
   ]
  },
  {
   "cell_type": "code",
   "execution_count": 191,
   "metadata": {},
   "outputs": [],
   "source": [
    "def plot_results(modelPop, realPop, years, title):\n",
    "    \"\"\"Plot the estimates and the model.\n",
    "    \n",
    "    census: TimeSeries of population estimates\n",
    "    un: TimeSeries of population estimates\n",
    "    timeseries: TimeSeries of simulation results\n",
    "    title: string\n",
    "    \"\"\"\n",
    "    plot(years, modelPop, ':', label='Model')\n",
    "    plot(years, realPop, label='Data')    \n",
    "    decorate(xlabel='Year', \n",
    "             ylabel='World population (billion)',\n",
    "             title=title)"
   ]
  },
  {
   "cell_type": "code",
   "execution_count": 192,
   "metadata": {},
   "outputs": [],
   "source": [
    "population = run_sim(modelSystem, update_quadratic);"
   ]
  },
  {
   "cell_type": "code",
   "execution_count": 361,
   "metadata": {},
   "outputs": [],
   "source": [
    "# Model System object\n",
    "# Best alpha and beta are 0.022, -0.007\n",
    "modelSystem = System(t_0 = t_0,\n",
    "                    t_end = t_end,\n",
    "                    p_0 = p_0,\n",
    "                    annual_growth = annual_growth,\n",
    "                    birth_rate = 0.03,\n",
    "                    death_rate = 0.011,\n",
    "                    alpha = 0.00022,\n",
    "                    beta = -0.00007,\n",
    "                    gamma = -0.00003);"
   ]
  },
  {
   "cell_type": "code",
   "execution_count": 362,
   "metadata": {},
   "outputs": [
    {
     "data": {
      "image/png": "[encoded data removed]",
      "text/plain": [
       "<Figure size 432x288 with 1 Axes>"
      ]
     },
     "metadata": {},
     "output_type": "display_data"
    }
   ],
   "source": [
    "population = run_sim(modelSystem, update_quadratic);\n",
    "plot_results(population, pop1900, year1900, \"Title\")"
   ]
  },
  {
   "cell_type": "code",
   "execution_count": 363,
   "metadata": {},
   "outputs": [],
   "source": [
    "# Update function: polynomial growth\n",
    "def update_poly(pop, system):\n",
    "    \"\"\"udpate function with proportional growth.\n",
    "    \n",
    "    system: System object\n",
    "    pop: the current population\n",
    "    returns: returns the new population\n",
    "    \"\"\"\n",
    "    netGrowth = system.alpha * pop + system.beta * pop**2 + system.gamma * pop**3\n",
    "    result = netGrowth + pop\n",
    "    return result"
   ]
  },
  {
   "cell_type": "code",
   "execution_count": 364,
   "metadata": {},
   "outputs": [
    {
     "data": {
      "text/html": [
       "<div>\n",
       "<style scoped>\n",
       "    .dataframe tbody tr th:only-of-type {\n",
       "        vertical-align: middle;\n",
       "    }\n",
       "\n",
       "    .dataframe tbody tr th {\n",
       "        vertical-align: top;\n",
       "    }\n",
       "\n",
       "    .dataframe thead th {\n",
       "        text-align: right;\n",
       "    }\n",
       "</style>\n",
       "<table border=\"1\" class=\"dataframe\">\n",
       "  <thead>\n",
       "    <tr style=\"text-align: right;\">\n",
       "      <th></th>\n",
       "      <th>values</th>\n",
       "    </tr>\n",
       "  </thead>\n",
       "  <tbody>\n",
       "    <tr>\n",
       "      <th>1900</th>\n",
       "      <td>1.650000</td>\n",
       "    </tr>\n",
       "    <tr>\n",
       "      <th>1901</th>\n",
       "      <td>1.650038</td>\n",
       "    </tr>\n",
       "    <tr>\n",
       "      <th>1902</th>\n",
       "      <td>1.650075</td>\n",
       "    </tr>\n",
       "    <tr>\n",
       "      <th>1903</th>\n",
       "      <td>1.650113</td>\n",
       "    </tr>\n",
       "    <tr>\n",
       "      <th>1904</th>\n",
       "      <td>1.650151</td>\n",
       "    </tr>\n",
       "    <tr>\n",
       "      <th>1905</th>\n",
       "      <td>1.650188</td>\n",
       "    </tr>\n",
       "    <tr>\n",
       "      <th>1906</th>\n",
       "      <td>1.650226</td>\n",
       "    </tr>\n",
       "    <tr>\n",
       "      <th>1907</th>\n",
       "      <td>1.650263</td>\n",
       "    </tr>\n",
       "    <tr>\n",
       "      <th>1908</th>\n",
       "      <td>1.650301</td>\n",
       "    </tr>\n",
       "    <tr>\n",
       "      <th>1909</th>\n",
       "      <td>1.650339</td>\n",
       "    </tr>\n",
       "    <tr>\n",
       "      <th>1910</th>\n",
       "      <td>1.650376</td>\n",
       "    </tr>\n",
       "    <tr>\n",
       "      <th>1911</th>\n",
       "      <td>1.650414</td>\n",
       "    </tr>\n",
       "    <tr>\n",
       "      <th>1912</th>\n",
       "      <td>1.650451</td>\n",
       "    </tr>\n",
       "    <tr>\n",
       "      <th>1913</th>\n",
       "      <td>1.650489</td>\n",
       "    </tr>\n",
       "    <tr>\n",
       "      <th>1914</th>\n",
       "      <td>1.650526</td>\n",
       "    </tr>\n",
       "    <tr>\n",
       "      <th>1915</th>\n",
       "      <td>1.650564</td>\n",
       "    </tr>\n",
       "    <tr>\n",
       "      <th>1916</th>\n",
       "      <td>1.650601</td>\n",
       "    </tr>\n",
       "    <tr>\n",
       "      <th>1917</th>\n",
       "      <td>1.650639</td>\n",
       "    </tr>\n",
       "    <tr>\n",
       "      <th>1918</th>\n",
       "      <td>1.650676</td>\n",
       "    </tr>\n",
       "    <tr>\n",
       "      <th>1919</th>\n",
       "      <td>1.650714</td>\n",
       "    </tr>\n",
       "    <tr>\n",
       "      <th>1920</th>\n",
       "      <td>1.650751</td>\n",
       "    </tr>\n",
       "    <tr>\n",
       "      <th>1921</th>\n",
       "      <td>1.650789</td>\n",
       "    </tr>\n",
       "    <tr>\n",
       "      <th>1922</th>\n",
       "      <td>1.650826</td>\n",
       "    </tr>\n",
       "    <tr>\n",
       "      <th>1923</th>\n",
       "      <td>1.650864</td>\n",
       "    </tr>\n",
       "    <tr>\n",
       "      <th>1924</th>\n",
       "      <td>1.650901</td>\n",
       "    </tr>\n",
       "    <tr>\n",
       "      <th>1925</th>\n",
       "      <td>1.650939</td>\n",
       "    </tr>\n",
       "    <tr>\n",
       "      <th>1926</th>\n",
       "      <td>1.650976</td>\n",
       "    </tr>\n",
       "    <tr>\n",
       "      <th>1927</th>\n",
       "      <td>1.651013</td>\n",
       "    </tr>\n",
       "    <tr>\n",
       "      <th>1928</th>\n",
       "      <td>1.651051</td>\n",
       "    </tr>\n",
       "    <tr>\n",
       "      <th>1929</th>\n",
       "      <td>1.651088</td>\n",
       "    </tr>\n",
       "    <tr>\n",
       "      <th>...</th>\n",
       "      <td>...</td>\n",
       "    </tr>\n",
       "    <tr>\n",
       "      <th>1986</th>\n",
       "      <td>1.653204</td>\n",
       "    </tr>\n",
       "    <tr>\n",
       "      <th>1987</th>\n",
       "      <td>1.653241</td>\n",
       "    </tr>\n",
       "    <tr>\n",
       "      <th>1988</th>\n",
       "      <td>1.653277</td>\n",
       "    </tr>\n",
       "    <tr>\n",
       "      <th>1989</th>\n",
       "      <td>1.653314</td>\n",
       "    </tr>\n",
       "    <tr>\n",
       "      <th>1990</th>\n",
       "      <td>1.653351</td>\n",
       "    </tr>\n",
       "    <tr>\n",
       "      <th>1991</th>\n",
       "      <td>1.653388</td>\n",
       "    </tr>\n",
       "    <tr>\n",
       "      <th>1992</th>\n",
       "      <td>1.653425</td>\n",
       "    </tr>\n",
       "    <tr>\n",
       "      <th>1993</th>\n",
       "      <td>1.653461</td>\n",
       "    </tr>\n",
       "    <tr>\n",
       "      <th>1994</th>\n",
       "      <td>1.653498</td>\n",
       "    </tr>\n",
       "    <tr>\n",
       "      <th>1995</th>\n",
       "      <td>1.653535</td>\n",
       "    </tr>\n",
       "    <tr>\n",
       "      <th>1996</th>\n",
       "      <td>1.653572</td>\n",
       "    </tr>\n",
       "    <tr>\n",
       "      <th>1997</th>\n",
       "      <td>1.653609</td>\n",
       "    </tr>\n",
       "    <tr>\n",
       "      <th>1998</th>\n",
       "      <td>1.653645</td>\n",
       "    </tr>\n",
       "    <tr>\n",
       "      <th>1999</th>\n",
       "      <td>1.653682</td>\n",
       "    </tr>\n",
       "    <tr>\n",
       "      <th>2000</th>\n",
       "      <td>1.653719</td>\n",
       "    </tr>\n",
       "    <tr>\n",
       "      <th>2001</th>\n",
       "      <td>1.653755</td>\n",
       "    </tr>\n",
       "    <tr>\n",
       "      <th>2002</th>\n",
       "      <td>1.653792</td>\n",
       "    </tr>\n",
       "    <tr>\n",
       "      <th>2003</th>\n",
       "      <td>1.653829</td>\n",
       "    </tr>\n",
       "    <tr>\n",
       "      <th>2004</th>\n",
       "      <td>1.653865</td>\n",
       "    </tr>\n",
       "    <tr>\n",
       "      <th>2005</th>\n",
       "      <td>1.653902</td>\n",
       "    </tr>\n",
       "    <tr>\n",
       "      <th>2006</th>\n",
       "      <td>1.653939</td>\n",
       "    </tr>\n",
       "    <tr>\n",
       "      <th>2007</th>\n",
       "      <td>1.653975</td>\n",
       "    </tr>\n",
       "    <tr>\n",
       "      <th>2008</th>\n",
       "      <td>1.654012</td>\n",
       "    </tr>\n",
       "    <tr>\n",
       "      <th>2009</th>\n",
       "      <td>1.654049</td>\n",
       "    </tr>\n",
       "    <tr>\n",
       "      <th>2010</th>\n",
       "      <td>1.654085</td>\n",
       "    </tr>\n",
       "    <tr>\n",
       "      <th>2011</th>\n",
       "      <td>1.654122</td>\n",
       "    </tr>\n",
       "    <tr>\n",
       "      <th>2012</th>\n",
       "      <td>1.654159</td>\n",
       "    </tr>\n",
       "    <tr>\n",
       "      <th>2013</th>\n",
       "      <td>1.654195</td>\n",
       "    </tr>\n",
       "    <tr>\n",
       "      <th>2014</th>\n",
       "      <td>1.654232</td>\n",
       "    </tr>\n",
       "    <tr>\n",
       "      <th>2015</th>\n",
       "      <td>1.654268</td>\n",
       "    </tr>\n",
       "  </tbody>\n",
       "</table>\n",
       "<p>116 rows × 1 columns</p>\n",
       "</div>"
      ],
      "text/plain": [
       "1900    1.650000\n",
       "1901    1.650038\n",
       "1902    1.650075\n",
       "1903    1.650113\n",
       "1904    1.650151\n",
       "1905    1.650188\n",
       "1906    1.650226\n",
       "1907    1.650263\n",
       "1908    1.650301\n",
       "1909    1.650339\n",
       "1910    1.650376\n",
       "1911    1.650414\n",
       "1912    1.650451\n",
       "1913    1.650489\n",
       "1914    1.650526\n",
       "1915    1.650564\n",
       "1916    1.650601\n",
       "1917    1.650639\n",
       "1918    1.650676\n",
       "1919    1.650714\n",
       "1920    1.650751\n",
       "1921    1.650789\n",
       "1922    1.650826\n",
       "1923    1.650864\n",
       "1924    1.650901\n",
       "1925    1.650939\n",
       "1926    1.650976\n",
       "1927    1.651013\n",
       "1928    1.651051\n",
       "1929    1.651088\n",
       "          ...   \n",
       "1986    1.653204\n",
       "1987    1.653241\n",
       "1988    1.653277\n",
       "1989    1.653314\n",
       "1990    1.653351\n",
       "1991    1.653388\n",
       "1992    1.653425\n",
       "1993    1.653461\n",
       "1994    1.653498\n",
       "1995    1.653535\n",
       "1996    1.653572\n",
       "1997    1.653609\n",
       "1998    1.653645\n",
       "1999    1.653682\n",
       "2000    1.653719\n",
       "2001    1.653755\n",
       "2002    1.653792\n",
       "2003    1.653829\n",
       "2004    1.653865\n",
       "2005    1.653902\n",
       "2006    1.653939\n",
       "2007    1.653975\n",
       "2008    1.654012\n",
       "2009    1.654049\n",
       "2010    1.654085\n",
       "2011    1.654122\n",
       "2012    1.654159\n",
       "2013    1.654195\n",
       "2014    1.654232\n",
       "2015    1.654268\n",
       "Length: 116, dtype: float64"
      ]
     },
     "execution_count": 364,
     "metadata": {},
     "output_type": "execute_result"
    }
   ],
   "source": [
    "population = run_sim(modelSystem, update_poly)"
   ]
  },
  {
   "cell_type": "code",
   "execution_count": 196,
   "metadata": {},
   "outputs": [
    {
     "data": {
      "text/plain": [
       "array([-6.43244330e-07,  4.27650205e-03, -9.29638468e+00,  6.63877016e+03])"
      ]
     },
     "execution_count": 196,
     "metadata": {},
     "output_type": "execute_result"
    }
   ],
   "source": [
    "# Use numpy polyfit to find the correct coefficient\n",
    "coeff = np.polyfit(year1900, pop1900,3)"
   ]
  },
  {
   "cell_type": "code",
   "execution_count": 197,
   "metadata": {},
   "outputs": [],
   "source": [
    "population = run_sim(modelSystem, update_poly);"
   ]
  },
  {
   "cell_type": "code",
   "execution_count": 198,
   "metadata": {},
   "outputs": [
    {
     "data": {
      "text/plain": [
       "[<matplotlib.lines.Line2D at 0x28606dde320>]"
      ]
     },
     "execution_count": 198,
     "metadata": {},
     "output_type": "execute_result"
    },
    {
     "data": {
      "image/png": "[encoded data removed]",
      "text/plain": [
       "<Figure size 432x288 with 1 Axes>"
      ]
     },
     "metadata": {},
     "output_type": "display_data"
    }
   ],
   "source": [
    "plot(population)\n",
    "plot(year1900, pop1900)"
   ]
  },
  {
   "cell_type": "code",
   "execution_count": 199,
   "metadata": {},
   "outputs": [],
   "source": [
    "growthRate1900 = np.diff(pop1900);"
   ]
  },
  {
   "cell_type": "code",
   "execution_count": 200,
   "metadata": {},
   "outputs": [
    {
     "data": {
      "text/plain": [
       "7.349472099"
      ]
     },
     "execution_count": 200,
     "metadata": {},
     "output_type": "execute_result"
    }
   ],
   "source": [
    "pop1900[-1]"
   ]
  },
  {
   "cell_type": "code",
   "execution_count": 201,
   "metadata": {},
   "outputs": [
    {
     "data": {
      "text/plain": [
       "[<matplotlib.lines.Line2D at 0x28605b94400>]"
      ]
     },
     "execution_count": 201,
     "metadata": {},
     "output_type": "execute_result"
    },
    {
     "data": {
      "image/png": "[encoded data removed]",
      "text/plain": [
       "<Figure size 432x288 with 1 Axes>"
      ]
     },
     "metadata": {},
     "output_type": "display_data"
    }
   ],
   "source": [
    "plot(year1900[:-1], growthRate1900)\n"
   ]
  },
  {
   "cell_type": "code",
   "execution_count": 202,
   "metadata": {},
   "outputs": [
    {
     "data": {
      "text/plain": [
       "0.05672934499999993"
      ]
     },
     "execution_count": 202,
     "metadata": {},
     "output_type": "execute_result"
    }
   ],
   "source": [
    "growthRate1900[60]"
   ]
  },
  {
   "cell_type": "code",
   "execution_count": 250,
   "metadata": {},
   "outputs": [],
   "source": [
    "#\n",
    "population = run_sim(modelSystem, update_poly);"
   ]
  },
  {
   "cell_type": "code",
   "execution_count": 251,
   "metadata": {},
   "outputs": [],
   "source": [
    "population = run_sim(modelSystem, update_proportional);"
   ]
  },
  {
   "cell_type": "code",
   "execution_count": 204,
   "metadata": {},
   "outputs": [],
   "source": [
    "# Test code for gradient descent and random stuff"
   ]
  },
  {
   "cell_type": "code",
   "execution_count": 345,
   "metadata": {},
   "outputs": [],
   "source": [
    "def gradient_descent(runs, learning_rate, update_func):\n",
    "    \"\"\"Runs the run_sim function and updates the model system parameters\n",
    "    \n",
    "    runs: number of iterations of gradient descent\n",
    "    learning_rate: size of descent steps per iteration\n",
    "    returns: the final mean squared error  \n",
    "    prints: the mean squared error for each run\n",
    "    returns: an array containing the error over iterations\n",
    "    \"\"\"\n",
    "    newWeight = 0;\n",
    "    newWeight2 = 0;\n",
    "    newBias = 0;\n",
    "    error_log = SweepSeries()\n",
    "    \n",
    "    for i in range(runs):\n",
    "        population = run_sim(modelSystem, update_func)\n",
    "        newParams = update_weights(pop1900, population, newWeight, newWeight2, newBias, learning_rate);\n",
    "        newWeight = newParams[0];\n",
    "        newWeight2 = newParams[1];\n",
    "        newBias = newParams[2];\n",
    "        modelSystem.alpha = newWeight\n",
    "        modelSystem.beta = newWeight2\n",
    "        modelSystem.gamma = newBias\n",
    "        error = cost_func(pop1900, population);\n",
    "        print(\"Iteration: \", i, \", MS Error: \", error);\n",
    "        error_log[i] = error;\n",
    "        \n",
    "    plot_results(population, pop1900, year1900, \"Plot After Gradient Descent\")\n",
    "    print(\"Final error: \", error)\n",
    "    return error_log"
   ]
  },
  {
   "cell_type": "code",
   "execution_count": 346,
   "metadata": {},
   "outputs": [],
   "source": [
    "def cost_func(realPop, predictions):\n",
    "    \"\"\"calcaulate the mean squared error between the predictions and the actual\n",
    "    \n",
    "    realPop: the actual population vector\n",
    "    predictions: the vector that the simulation generates\n",
    "    returns: the mean squared error\n",
    "    \"\"\"\n",
    "    n = len(realPop)\n",
    "    total_error = 0.0\n",
    "    for i in range(n):\n",
    "        total_error += (realPop[i] - predictions[i+1900])**2 \n",
    "    return total_error / n"
   ]
  },
  {
   "cell_type": "code",
   "execution_count": 401,
   "metadata": {},
   "outputs": [],
   "source": [
    "def update_weights(realPop, predictions, weight, weight2, bias, learning_rate):\n",
    "    \"\"\"Update the weights to minimize the error\n",
    "    \n",
    "    realPop: actual population\n",
    "    predictions: the current predicted value of population\n",
    "    weight: parameter that is being optimized\n",
    "    bias: another parameter that is being optimized\n",
    "    learning_rate: the step size of each iteration\n",
    "    \"\"\"\n",
    "    weight_deriv = 0\n",
    "    weight2_deriv = 0\n",
    "    bias_deriv = 0\n",
    "    n = len(realPop)\n",
    "\n",
    "    for i in range(n):\n",
    "        # Calculate partial derivatives\n",
    "        # -2x(y - (mx + b))\n",
    "        weight_deriv += -2 * (realPop[i] - (predictions[i+1900]))\n",
    "        \n",
    "        # Don't know how to find out how each weight contributes to the predictions\n",
    "        # Another derivative for second weight parameter\n",
    "        weight2_deriv += -2 * (realPop[i] - (predictions[i+1900]))\n",
    "\n",
    "        # -2(y - (mx + b))\n",
    "        bias_deriv += -2*(realPop[i] - (predictions[i+1900]))\n",
    "\n",
    "    # We subtract because the derivatives point in direction of steepest ascent\n",
    "    weight -= (weight_deriv / n) * learning_rate\n",
    "    weight2 -= (weight2_deriv / n) * learning_rate\n",
    "    bias -= (bias_deriv / n) * learning_rate\n",
    "\n",
    "    return weight, weight2, bias"
   ]
  },
  {
   "cell_type": "code",
   "execution_count": 412,
   "metadata": {},
   "outputs": [
    {
     "data": {
      "image/png": "[encoded data removed]",
      "text/plain": [
       "<Figure size 432x288 with 1 Axes>"
      ]
     },
     "metadata": {},
     "output_type": "display_data"
    }
   ],
   "source": [
    "# Start off with bad fit\n",
    "modelSystem.alpha = 0\n",
    "modelSystem.beta = 0\n",
    "population = run_sim(modelSystem, update_quadratic)\n",
    "plot_results(population, pop1900, year1900, \"Plot Before Gradient Descent\")"
   ]
  },
  {
   "cell_type": "code",
   "execution_count": 413,
   "metadata": {},
   "outputs": [
    {
     "name": "stdout",
     "output_type": "stream",
     "text": [
      "Iteration:  0 , MS Error:  6.769149806458167\n",
      "Iteration:  1 , MS Error:  6.541525655466592\n",
      "Iteration:  2 , MS Error:  6.308809765980694\n",
      "Iteration:  3 , MS Error:  6.07120446413047\n",
      "Iteration:  4 , MS Error:  5.828971906664943\n",
      "Iteration:  5 , MS Error:  5.582441149304279\n",
      "Iteration:  6 , MS Error:  5.332015290479723\n",
      "Iteration:  7 , MS Error:  5.078178453956721\n",
      "Iteration:  8 , MS Error:  4.821502299289395\n",
      "Iteration:  9 , MS Error:  4.562651665881346\n",
      "Iteration:  10 , MS Error:  4.302388868313455\n",
      "Iteration:  11 , MS Error:  4.041576073795886\n",
      "Iteration:  12 , MS Error:  3.7811751165270246\n",
      "Iteration:  13 , MS Error:  3.5222440513830566\n",
      "Iteration:  14 , MS Error:  3.265929737255067\n",
      "Iteration:  15 , MS Error:  3.0134557878304817\n",
      "Iteration:  16 , MS Error:  2.7661053549992025\n",
      "Iteration:  17 , MS Error:  2.525198435482122\n",
      "Iteration:  18 , MS Error:  2.2920637260708\n",
      "Iteration:  19 , MS Error:  2.0680054958323253\n",
      "Iteration:  20 , MS Error:  1.8542664750216427\n",
      "Iteration:  21 , MS Error:  1.651988337240434\n",
      "Iteration:  22 , MS Error:  1.462171906025222\n",
      "Iteration:  23 , MS Error:  1.2856396618412402\n",
      "Iteration:  24 , MS Error:  1.1230033641920647\n",
      "Iteration:  25 , MS Error:  0.9746395501052004\n",
      "Iteration:  26 , MS Error:  0.8406752712567402\n",
      "Iteration:  27 , MS Error:  0.7209856879260804\n",
      "Iteration:  28 , MS Error:  0.6152041154002587\n",
      "Iteration:  29 , MS Error:  0.5227439470865087\n",
      "Iteration:  30 , MS Error:  0.4428307305602392\n",
      "Iteration:  31 , MS Error:  0.37454172747239317\n",
      "Iteration:  32 , MS Error:  0.31684969199864343\n",
      "Iteration:  33 , MS Error:  0.2686674351403016\n",
      "Iteration:  34 , MS Error:  0.22889000083990702\n",
      "Iteration:  35 , MS Error:  0.19643188482450055\n",
      "Iteration:  36 , MS Error:  0.17025754638037546\n",
      "Iteration:  37 , MS Error:  0.14940434721932916\n",
      "Iteration:  38 , MS Error:  0.13299786614849787\n",
      "Iteration:  39 , MS Error:  0.12026018823837659\n",
      "Iteration:  40 , MS Error:  0.11051220564892503\n",
      "Iteration:  41 , MS Error:  0.10317119190965877\n",
      "Iteration:  42 , MS Error:  0.09774495256528394\n",
      "Iteration:  43 , MS Error:  0.09382376059280338\n",
      "Iteration:  44 , MS Error:  0.09107110674757973\n",
      "Iteration:  45 , MS Error:  0.08921407917758138\n",
      "Iteration:  46 , MS Error:  0.08803396857807001\n",
      "Iteration:  47 , MS Error:  0.08735749800669276\n",
      "Iteration:  48 , MS Error:  0.08704891250098391\n",
      "Iteration:  49 , MS Error:  0.08700303671507884\n",
      "Final error:  0.08700303671507884\n"
     ]
    },
    {
     "data": {
      "image/png": "[encoded data removed]",
      "text/plain": [
       "<Figure size 432x288 with 1 Axes>"
      ]
     },
     "metadata": {},
     "output_type": "display_data"
    }
   ],
   "source": [
    "# Optimize birthrate with gradient descent\n",
    "# Model System object\n",
    "modelSystem = System(t_0 = t_0,\n",
    "                    t_end = t_end,\n",
    "                    p_0 = p_0,\n",
    "                    annual_growth = annual_growth,\n",
    "                    birth_rate = 0.02,\n",
    "                    death_rate = 0.011,\n",
    "                    alpha = 0,\n",
    "                    beta = 0,\n",
    "                    gamma = 0,)\n",
    "error_log = gradient_descent(50, 0.00004, update_quadratic);"
   ]
  },
  {
   "cell_type": "code",
   "execution_count": 399,
   "metadata": {},
   "outputs": [
    {
     "data": {
      "text/html": [
       "<div>\n",
       "<style scoped>\n",
       "    .dataframe tbody tr th:only-of-type {\n",
       "        vertical-align: middle;\n",
       "    }\n",
       "\n",
       "    .dataframe tbody tr th {\n",
       "        vertical-align: top;\n",
       "    }\n",
       "\n",
       "    .dataframe thead th {\n",
       "        text-align: right;\n",
       "    }\n",
       "</style>\n",
       "<table border=\"1\" class=\"dataframe\">\n",
       "  <thead>\n",
       "    <tr style=\"text-align: right;\">\n",
       "      <th></th>\n",
       "      <th>values</th>\n",
       "    </tr>\n",
       "  </thead>\n",
       "  <tbody>\n",
       "    <tr>\n",
       "      <th>t_0</th>\n",
       "      <td>1900.000000</td>\n",
       "    </tr>\n",
       "    <tr>\n",
       "      <th>t_end</th>\n",
       "      <td>2015.000000</td>\n",
       "    </tr>\n",
       "    <tr>\n",
       "      <th>p_0</th>\n",
       "      <td>1.650000</td>\n",
       "    </tr>\n",
       "    <tr>\n",
       "      <th>annual_growth</th>\n",
       "      <td>0.049561</td>\n",
       "    </tr>\n",
       "    <tr>\n",
       "      <th>birth_rate</th>\n",
       "      <td>0.020000</td>\n",
       "    </tr>\n",
       "    <tr>\n",
       "      <th>death_rate</th>\n",
       "      <td>0.011000</td>\n",
       "    </tr>\n",
       "    <tr>\n",
       "      <th>alpha</th>\n",
       "      <td>0.000567</td>\n",
       "    </tr>\n",
       "    <tr>\n",
       "      <th>beta</th>\n",
       "      <td>0.000851</td>\n",
       "    </tr>\n",
       "    <tr>\n",
       "      <th>gamma</th>\n",
       "      <td>0.001135</td>\n",
       "    </tr>\n",
       "  </tbody>\n",
       "</table>\n",
       "</div>"
      ],
      "text/plain": [
       "t_0              1900.000000\n",
       "t_end            2015.000000\n",
       "p_0                 1.650000\n",
       "annual_growth       0.049561\n",
       "birth_rate          0.020000\n",
       "death_rate          0.011000\n",
       "alpha               0.000567\n",
       "beta                0.000851\n",
       "gamma               0.001135\n",
       "dtype: float64"
      ]
     },
     "execution_count": 399,
     "metadata": {},
     "output_type": "execute_result"
    }
   ],
   "source": [
    "modelSystem"
   ]
  },
  {
   "cell_type": "code",
   "execution_count": 270,
   "metadata": {},
   "outputs": [
    {
     "data": {
      "image/png": "[encoded data removed]",
      "text/plain": [
       "<Figure size 432x288 with 1 Axes>"
      ]
     },
     "metadata": {},
     "output_type": "display_data"
    }
   ],
   "source": [
    "population = run_sim(modelSystem, update_proportional)\n",
    "plot_results(population, pop1900, year1900, \"Title\")"
   ]
  },
  {
   "cell_type": "code",
   "execution_count": 370,
   "metadata": {},
   "outputs": [
    {
     "data": {
      "text/html": [
       "<div>\n",
       "<style scoped>\n",
       "    .dataframe tbody tr th:only-of-type {\n",
       "        vertical-align: middle;\n",
       "    }\n",
       "\n",
       "    .dataframe tbody tr th {\n",
       "        vertical-align: top;\n",
       "    }\n",
       "\n",
       "    .dataframe thead th {\n",
       "        text-align: right;\n",
       "    }\n",
       "</style>\n",
       "<table border=\"1\" class=\"dataframe\">\n",
       "  <thead>\n",
       "    <tr style=\"text-align: right;\">\n",
       "      <th></th>\n",
       "      <th>values</th>\n",
       "    </tr>\n",
       "  </thead>\n",
       "  <tbody>\n",
       "    <tr>\n",
       "      <th>t_0</th>\n",
       "      <td>1900.000000</td>\n",
       "    </tr>\n",
       "    <tr>\n",
       "      <th>t_end</th>\n",
       "      <td>2015.000000</td>\n",
       "    </tr>\n",
       "    <tr>\n",
       "      <th>p_0</th>\n",
       "      <td>1.650000</td>\n",
       "    </tr>\n",
       "    <tr>\n",
       "      <th>annual_growth</th>\n",
       "      <td>0.049561</td>\n",
       "    </tr>\n",
       "    <tr>\n",
       "      <th>birth_rate</th>\n",
       "      <td>0.020000</td>\n",
       "    </tr>\n",
       "    <tr>\n",
       "      <th>death_rate</th>\n",
       "      <td>0.011000</td>\n",
       "    </tr>\n",
       "    <tr>\n",
       "      <th>alpha</th>\n",
       "      <td>0.000140</td>\n",
       "    </tr>\n",
       "    <tr>\n",
       "      <th>beta</th>\n",
       "      <td>-0.000030</td>\n",
       "    </tr>\n",
       "    <tr>\n",
       "      <th>gamma</th>\n",
       "      <td>-0.000050</td>\n",
       "    </tr>\n",
       "  </tbody>\n",
       "</table>\n",
       "</div>"
      ],
      "text/plain": [
       "t_0              1900.000000\n",
       "t_end            2015.000000\n",
       "p_0                 1.650000\n",
       "annual_growth       0.049561\n",
       "birth_rate          0.020000\n",
       "death_rate          0.011000\n",
       "alpha               0.000140\n",
       "beta               -0.000030\n",
       "gamma              -0.000050\n",
       "dtype: float64"
      ]
     },
     "execution_count": 370,
     "metadata": {},
     "output_type": "execute_result"
    }
   ],
   "source": [
    "# Model System object\n",
    "modelSystem = System(t_0 = t_0,\n",
    "                    t_end = t_end,\n",
    "                    p_0 = p_0,\n",
    "                    annual_growth = annual_growth,\n",
    "                    birth_rate = 0.02,\n",
    "                    death_rate = 0.011,\n",
    "                    alpha = 0.00014,\n",
    "                    beta = -0.00003,\n",
    "                    gamma = -0.00005,)"
   ]
  },
  {
   "cell_type": "code",
   "execution_count": 210,
   "metadata": {},
   "outputs": [
    {
     "data": {
      "text/plain": [
       "[<matplotlib.lines.Line2D at 0x28605b95588>]"
      ]
     },
     "execution_count": 210,
     "metadata": {},
     "output_type": "execute_result"
    },
    {
     "data": {
      "image/png": "[encoded data removed]",
      "text/plain": [
       "<Figure size 432x288 with 1 Axes>"
      ]
     },
     "metadata": {},
     "output_type": "display_data"
    }
   ],
   "source": [
    "population = run_sim(modelSystem, update_proportional);\n",
    "plot(population)\n",
    "plot(year1900, pop1900)"
   ]
  },
  {
   "cell_type": "code",
   "execution_count": null,
   "metadata": {},
   "outputs": [],
   "source": []
  },
  {
   "cell_type": "code",
   "execution_count": null,
   "metadata": {},
   "outputs": [],
   "source": []
  },
  {
   "cell_type": "code",
   "execution_count": null,
   "metadata": {},
   "outputs": [],
   "source": []
  },
  {
   "cell_type": "code",
   "execution_count": null,
   "metadata": {},
   "outputs": [],
   "source": []
  },
  {
   "cell_type": "code",
   "execution_count": null,
   "metadata": {},
   "outputs": [],
   "source": []
  }
 ],
 "metadata": {
  "kernelspec": {
   "display_name": "Python 3",
   "language": "python",
   "name": "python3"
  },
  "language_info": {
   "codemirror_mode": {
    "name": "ipython",
    "version": 3
   },
   "file_extension": ".py",
   "mimetype": "text/x-python",
   "name": "python",
   "nbconvert_exporter": "python",
   "pygments_lexer": "ipython3",
   "version": "3.6.6"
  }
 },
 "nbformat": 4,
 "nbformat_minor": 2
}
