{
 "cells": [
  {
   "cell_type": "code",
   "execution_count": 1,
   "metadata": {},
   "outputs": [],
   "source": [
    "import math\n",
    "import os\n",
    "import random\n",
    "import re\n",
    "import sys"
   ]
  },
  {
   "cell_type": "code",
   "execution_count": 91,
   "metadata": {},
   "outputs": [],
   "source": [
    "a = [[1,2,3,4,5,6],\n",
    "     [2,3,4,5,6,1],\n",
    "     [3,4,5,6,1,2],\n",
    "     [4,5,6,1,2,3],\n",
    "     [5,6,1,2,3,4],\n",
    "     [6,1,2,3,4,5]]"
   ]
  },
  {
   "cell_type": "code",
   "execution_count": 113,
   "metadata": {},
   "outputs": [
    {
     "name": "stdout",
     "output_type": "stream",
     "text": [
      "6\n",
      "9\n",
      "12\n",
      "15\n"
     ]
    }
   ],
   "source": [
    "summ = []\n",
    "for j in range(4):\n",
    "    for i in range(3):\n",
    "        s += a[0][i+j]\n",
    "        #print(s)\n",
    "        summ.append(s)\n",
    "    print(max(summ))\n",
    "    s = 0"
   ]
  },
  {
   "cell_type": "code",
   "execution_count": 133,
   "metadata": {},
   "outputs": [
    {
     "name": "stdout",
     "output_type": "stream",
     "text": [
      "4\n",
      "5\n",
      "6\n",
      "6\n"
     ]
    }
   ],
   "source": [
    "sumMid = []\n",
    "for j in range(4):\n",
    "    for i in range(3):\n",
    "        s = a[1][i+j]\n",
    "        #print(s)\n",
    "        sumMid.append(s)\n",
    "    print(max(sumMid))\n",
    "    s = 0"
   ]
  },
  {
   "cell_type": "code",
   "execution_count": 142,
   "metadata": {},
   "outputs": [
    {
     "name": "stdout",
     "output_type": "stream",
     "text": [
      "topRow 6\n",
      "topRow 9\n",
      "topRow 12\n",
      "topRow 15\n",
      "4\n",
      "5\n",
      "6\n",
      "1\n",
      "topRow 9\n",
      "topRow 12\n",
      "topRow 15\n",
      "topRow 12\n",
      "4\n",
      "5\n",
      "6\n",
      "1\n",
      "topRow 12\n",
      "topRow 15\n",
      "topRow 12\n",
      "topRow 9\n",
      "4\n",
      "5\n",
      "6\n",
      "1\n",
      "topRow 15\n",
      "topRow 12\n",
      "topRow 9\n",
      "topRow 6\n",
      "4\n",
      "5\n",
      "6\n",
      "1\n"
     ]
    }
   ],
   "source": [
    "# prints\n",
    "# summ is the sum of the top of each hour glass \n",
    "summ = [];\n",
    "firstRow = [];\n",
    "for g in range(4):\n",
    "    nextrow = [];\n",
    "    summ.append(nextrow)\n",
    "    for j in range(4):\n",
    "        for i in range(3):\n",
    "            s += a[g][i+j]\n",
    "            #print(s)\n",
    "            nextrow.append(s)\n",
    "        print(\"topRow\", nextrow[-1])\n",
    "        s = 0\n",
    "    # sumMid is the middle of each hour glass\n",
    "    sumMid = []\n",
    "    for j in range(4):\n",
    "        for i in range(3):\n",
    "            s = a[1][i+j]\n",
    "            #print(s)\n",
    "            sumMid.append(s)\n",
    "        print(sumMid[-1])\n",
    "        s = 0\n",
    "    "
   ]
  },
  {
   "cell_type": "code",
   "execution_count": 110,
   "metadata": {},
   "outputs": [
    {
     "data": {
      "text/plain": [
       "[[1, 3, 6, 2, 5, 9, 3, 7, 12, 4, 9, 15],\n",
       " [2, 5, 9, 3, 7, 12, 4, 9, 15, 5, 11, 12],\n",
       " [3, 7, 12, 4, 9, 15, 5, 11, 12, 6, 7, 9],\n",
       " [4, 9, 15, 5, 11, 12, 6, 7, 9, 1, 3, 6]]"
      ]
     },
     "execution_count": 110,
     "metadata": {},
     "output_type": "execute_result"
    }
   ],
   "source": [
    "summ\n"
   ]
  },
  {
   "cell_type": "code",
   "execution_count": null,
   "metadata": {},
   "outputs": [],
   "source": []
  }
 ],
 "metadata": {
  "kernelspec": {
   "display_name": "Python 3",
   "language": "python",
   "name": "python3"
  },
  "language_info": {
   "codemirror_mode": {
    "name": "ipython",
    "version": 3
   },
   "file_extension": ".py",
   "mimetype": "text/x-python",
   "name": "python",
   "nbconvert_exporter": "python",
   "pygments_lexer": "ipython3",
   "version": "3.6.6"
  }
 },
 "nbformat": 4,
 "nbformat_minor": 2
}
