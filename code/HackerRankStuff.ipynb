{
 "cells": [
  {
   "cell_type": "code",
   "execution_count": 227,
   "metadata": {},
   "outputs": [],
   "source": [
    "import math\n",
    "import os\n",
    "import random\n",
    "import re\n",
    "import sys"
   ]
  },
  {
   "cell_type": "code",
   "execution_count": 21,
   "metadata": {},
   "outputs": [],
   "source": [
    "a = [[1,2,3,4,5,6],\n",
    "     [2,3,4,5,6,1],\n",
    "     [3,4,5,6,1,2],\n",
    "     [4,5,6,1,2,3],\n",
    "     [5,6,1,2,3,4],\n",
    "     [6,1,2,3,4,5]]"
   ]
  },
  {
   "cell_type": "code",
   "execution_count": 23,
   "metadata": {},
   "outputs": [],
   "source": [
    "a = [[1, 1, 1, 0, 0, 0],\n",
    "     [0, 1, 0, 0, 0, 0], \n",
    "     [1, 1, 1, 0, 0, 0],\n",
    "     [0, 0, 2, 4, 4, 0],\n",
    "     [0, 0, 0, 2, 0, 0],\n",
    "     [0, 0, 1, 2, 4, 0]]"
   ]
  },
  {
   "cell_type": "code",
   "execution_count": 30,
   "metadata": {},
   "outputs": [
    {
     "name": "stdout",
     "output_type": "stream",
     "text": [
      "3\n",
      "2\n",
      "1\n",
      "0\n",
      "1\n",
      "1\n",
      "0\n",
      "0\n",
      "3\n",
      "2\n",
      "1\n",
      "0\n",
      "2\n",
      "6\n",
      "10\n",
      "8\n"
     ]
    }
   ],
   "source": [
    "for g in range(4):\n",
    "    summ = []\n",
    "    s = 0\n",
    "    for j in range(4):\n",
    "        for i in range(3):\n",
    "            s += a[g][i+j]\n",
    "            summ.append(s)\n",
    "        print((summ[-1]))\n",
    "        s = 0\n"
   ]
  },
  {
   "cell_type": "code",
   "execution_count": 5,
   "metadata": {},
   "outputs": [
    {
     "name": "stdout",
     "output_type": "stream",
     "text": [
      "current mid 1\n",
      "current mid 0\n",
      "current mid 0\n",
      "current mid 0\n",
      "[1, 0, 0, 0]\n",
      "current mid 1\n",
      "current mid 1\n",
      "current mid 0\n",
      "current mid 0\n",
      "[1, 0, 0, 0, 1, 1, 0, 0]\n",
      "current mid 0\n",
      "current mid 2\n",
      "current mid 4\n",
      "current mid 4\n",
      "[1, 0, 0, 0, 1, 1, 0, 0, 0, 2, 4, 4]\n",
      "current mid 0\n",
      "current mid 0\n",
      "current mid 2\n",
      "current mid 0\n",
      "[1, 0, 0, 0, 1, 1, 0, 0, 0, 2, 4, 4, 0, 0, 2, 0]\n"
     ]
    }
   ],
   "source": [
    "sumMid = []\n",
    "for j in range(4):\n",
    "    for i in range(4):\n",
    "        s = a[j+1][i+1]\n",
    "        print(\"current mid\",s)\n",
    "        sumMid.append(s)\n",
    "    print(sumMid)\n",
    "    s = 0"
   ]
  },
  {
   "cell_type": "code",
   "execution_count": 60,
   "metadata": {},
   "outputs": [
    {
     "name": "stdout",
     "output_type": "stream",
     "text": [
      "topRow 3\n",
      "topRow 2\n",
      "topRow 1\n",
      "topRow 0\n",
      "topRow 1\n",
      "topRow 1\n",
      "topRow 0\n",
      "topRow 0\n",
      "topRow 3\n",
      "topRow 2\n",
      "topRow 1\n",
      "topRow 0\n",
      "topRow 2\n",
      "topRow 6\n",
      "topRow 10\n",
      "topRow 8\n"
     ]
    },
    {
     "data": {
      "text/plain": [
       "19"
      ]
     },
     "execution_count": 60,
     "metadata": {},
     "output_type": "execute_result"
    }
   ],
   "source": [
    "# prints\n",
    "# summ is the sum of the top of each hour glass\n",
    "midRow = []\n",
    "topSum = []\n",
    "bottomSum = []\n",
    "for g in range(4):\n",
    "    topRow = []\n",
    "    s = 0\n",
    "    for j in range(4):\n",
    "        for i in range(3):\n",
    "            s += a[g][i+j]\n",
    "            topRow.append(s)\n",
    "        print(\"topRow\", topRow[-1])\n",
    "        topSum.append(topRow[-1])\n",
    "        s = 0\n",
    "    for i in range(4):\n",
    "        s = a[g+1][i+1]\n",
    "        #print(\"midRow\",s)\n",
    "        midRow.append(s)\n",
    "    s = 0\n",
    "    bottomRow = []\n",
    "    for j in range(4):\n",
    "        for i in range(3):\n",
    "            s += a[g+2][i+j]\n",
    "            #print(s)\n",
    "            bottomRow.append(s)\n",
    "        #print(\"bottomRow\", bottomRow[-1])\n",
    "        bottomSum.append(bottomRow[-1])\n",
    "        s = 0\n",
    "sums = [sum(x) for x in zip(topSum, midRow, bottomSum)]\n",
    "max(sums)"
   ]
  },
  {
   "cell_type": "code",
   "execution_count": 57,
   "metadata": {},
   "outputs": [
    {
     "data": {
      "text/plain": [
       "[3, 2, 1, 0, 1, 1, 0, 0, 3, 2, 1, 0, 2, 6, 10, 8]"
      ]
     },
     "execution_count": 57,
     "metadata": {},
     "output_type": "execute_result"
    }
   ],
   "source": [
    "topSum"
   ]
  },
  {
   "cell_type": "code",
   "execution_count": 58,
   "metadata": {},
   "outputs": [
    {
     "data": {
      "text/plain": [
       "[1, 0, 0, 0, 1, 1, 0, 0, 0, 2, 4, 4, 0, 0, 2, 0]"
      ]
     },
     "execution_count": 58,
     "metadata": {},
     "output_type": "execute_result"
    }
   ],
   "source": [
    "midRow"
   ]
  },
  {
   "cell_type": "code",
   "execution_count": 59,
   "metadata": {},
   "outputs": [
    {
     "data": {
      "text/plain": [
       "[0, 0, 1, 0, 1, 3, 1, 3, 7, 2, 6, 6]"
      ]
     },
     "execution_count": 59,
     "metadata": {},
     "output_type": "execute_result"
    }
   ],
   "source": [
    "bottomRow"
   ]
  },
  {
   "cell_type": "code",
   "execution_count": 44,
   "metadata": {},
   "outputs": [],
   "source": [
    "sum12 = [sum(x) for x in zip(topRow, midRow)]"
   ]
  },
  {
   "cell_type": "code",
   "execution_count": 45,
   "metadata": {},
   "outputs": [],
   "source": [
    "sumFinal = [sum(x) for x in zip(sum12, bottomRow)]"
   ]
  },
  {
   "cell_type": "code",
   "execution_count": 46,
   "metadata": {},
   "outputs": [
    {
     "data": {
      "text/plain": [
       "[1, 0, 3, 3, 1, 4, 9, 9, 3, 11, 21, 21, 6, 14, 16, 14]"
      ]
     },
     "execution_count": 46,
     "metadata": {},
     "output_type": "execute_result"
    }
   ],
   "source": [
    "sumFinal"
   ]
  },
  {
   "cell_type": "code",
   "execution_count": null,
   "metadata": {},
   "outputs": [],
   "source": []
  }
 ],
 "metadata": {
  "kernelspec": {
   "display_name": "Python 3",
   "language": "python",
   "name": "python3"
  },
  "language_info": {
   "codemirror_mode": {
    "name": "ipython",
    "version": 3
   },
   "file_extension": ".py",
   "mimetype": "text/x-python",
   "name": "python",
   "nbconvert_exporter": "python",
   "pygments_lexer": "ipython3",
   "version": "3.6.6"
  }
 },
 "nbformat": 4,
 "nbformat_minor": 2
}
